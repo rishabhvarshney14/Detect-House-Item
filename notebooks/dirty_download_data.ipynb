{
  "nbformat": 4,
  "nbformat_minor": 0,
  "metadata": {
    "colab": {
      "name": "dirty_download_data",
      "provenance": [],
      "collapsed_sections": []
    },
    "kernelspec": {
      "name": "python3",
      "display_name": "Python 3"
    }
  },
  "cells": [
    {
      "cell_type": "code",
      "metadata": {
        "id": "SYjbDKwDsV1J",
        "colab_type": "code",
        "colab": {}
      },
      "source": [
        "!pip install openimages"
      ],
      "execution_count": null,
      "outputs": []
    },
    {
      "cell_type": "code",
      "metadata": {
        "id": "VOYxtkovIzle",
        "colab_type": "code",
        "colab": {
          "base_uri": "https://localhost:8080/",
          "height": 746
        },
        "outputId": "e7ebae0d-5d25-4888-9339-add517cfa9e2"
      },
      "source": [
        "!wget https://storage.googleapis.com/openimages/v5/test-annotations-bbox.csv\n",
        "!wget https://storage.googleapis.com/openimages/v5/validation-annotations-bbox.csv\n",
        "!wget https://storage.googleapis.com/openimages/2018_04/train/train-annotations-bbox.csv\n",
        "!wget https://storage.googleapis.com/openimages/v5/class-descriptions-boxable.csv"
      ],
      "execution_count": null,
      "outputs": [
        {
          "output_type": "stream",
          "text": [
            "--2020-07-15 14:49:56--  https://storage.googleapis.com/openimages/v5/test-annotations-bbox.csv\n",
            "Resolving storage.googleapis.com (storage.googleapis.com)... 108.177.12.128, 172.217.204.128, 172.217.203.128, ...\n",
            "Connecting to storage.googleapis.com (storage.googleapis.com)|108.177.12.128|:443... connected.\n",
            "HTTP request sent, awaiting response... 200 OK\n",
            "Length: 77484237 (74M) [text/csv]\n",
            "Saving to: ‘test-annotations-bbox.csv.1’\n",
            "\n",
            "\r          test-anno   0%[                    ]       0  --.-KB/s               \r         test-annot  38%[======>             ]  28.23M   141MB/s               \rtest-annotations-bb 100%[===================>]  73.89M   187MB/s    in 0.4s    \n",
            "\n",
            "2020-07-15 14:49:57 (187 MB/s) - ‘test-annotations-bbox.csv.1’ saved [77484237/77484237]\n",
            "\n",
            "--2020-07-15 14:50:04--  https://storage.googleapis.com/openimages/v5/validation-annotations-bbox.csv\n",
            "Resolving storage.googleapis.com (storage.googleapis.com)... 173.194.214.128, 173.194.216.128, 173.194.217.128, ...\n",
            "Connecting to storage.googleapis.com (storage.googleapis.com)|173.194.214.128|:443... connected.\n",
            "HTTP request sent, awaiting response... 200 OK\n",
            "Length: 25105048 (24M) [text/csv]\n",
            "Saving to: ‘validation-annotations-bbox.csv.1’\n",
            "\n",
            "validation-annotati 100%[===================>]  23.94M   128MB/s    in 0.2s    \n",
            "\n",
            "2020-07-15 14:50:04 (128 MB/s) - ‘validation-annotations-bbox.csv.1’ saved [25105048/25105048]\n",
            "\n",
            "--2020-07-15 14:50:11--  https://storage.googleapis.com/openimages/2018_04/train/train-annotations-bbox.csv\n",
            "Resolving storage.googleapis.com (storage.googleapis.com)... 172.217.203.128, 172.253.123.128, 74.125.31.128, ...\n",
            "Connecting to storage.googleapis.com (storage.googleapis.com)|172.217.203.128|:443... connected.\n",
            "HTTP request sent, awaiting response... 200 OK\n",
            "Length: 1194033454 (1.1G) [text/csv]\n",
            "Saving to: ‘train-annotations-bbox.csv.1’\n",
            "\n",
            "sv.1                 99%[==================> ]   1.10G   177MB/s    eta 1s     ^C\n",
            "--2020-07-15 14:50:24--  https://storage.googleapis.com/openimages/v5/class-descriptions-boxable.csv\n",
            "Resolving storage.googleapis.com (storage.googleapis.com)... 108.177.12.128, 172.217.204.128, 172.217.203.128, ...\n",
            "Connecting to storage.googleapis.com (storage.googleapis.com)|108.177.12.128|:443... connected.\n",
            "HTTP request sent, awaiting response... 200 OK\n",
            "Length: 12011 (12K) [text/csv]\n",
            "Saving to: ‘class-descriptions-boxable.csv.1’\n",
            "\n",
            "class-descriptions- 100%[===================>]  11.73K  --.-KB/s    in 0s      \n",
            "\n",
            "2020-07-15 14:50:24 (64.9 MB/s) - ‘class-descriptions-boxable.csv.1’ saved [12011/12011]\n",
            "\n"
          ],
          "name": "stdout"
        }
      ]
    },
    {
      "cell_type": "code",
      "metadata": {
        "id": "Z3SH5QS5GOK7",
        "colab_type": "code",
        "colab": {}
      },
      "source": [
        "total_items = ['Bookcase', 'Toaster', 'Wood-burning stove', 'Telephone', 'Bathtub', 'Pillow', 'Couch', 'Mirror', 'Gas stove', 'Washing machine', 'Bed', 'Laptop', 'Refrigerator', 'Bathroom accessory', 'Kitchen & dining room table', 'Television', 'Kettle', 'Pressure cooker', 'Coffee table', 'Sink', 'Blender', 'Sofa bed', 'Kitchenware', 'Toilet', 'Ceiling fan', 'Microwave oven', 'Furniture', 'Heater', 'Coffeemaker', 'Cattle', 'Cupboard', 'Whiteboard', 'Dishwasher', 'Fireplace', 'Oven', 'Sewing machine', 'Shower', 'Table', 'Clock', 'Countertop', 'Towel', 'Mug']"
      ],
      "execution_count": null,
      "outputs": []
    },
    {
      "cell_type": "code",
      "metadata": {
        "id": "4WzCunYjmglE",
        "colab_type": "code",
        "colab": {}
      },
      "source": [
        "from openimages.download import download_images\n",
        "download_images(\"/content/data/images\", total_items, None, csv_dir='/content')"
      ],
      "execution_count": null,
      "outputs": []
    },
    {
      "cell_type": "code",
      "metadata": {
        "id": "L-UK6y3FrBPU",
        "colab_type": "code",
        "colab": {}
      },
      "source": [
        "import pandas as pd"
      ],
      "execution_count": null,
      "outputs": []
    },
    {
      "cell_type": "code",
      "metadata": {
        "id": "yDjL1dd5wMJv",
        "colab_type": "code",
        "colab": {}
      },
      "source": [
        "classes = {'class_name':[], 'id':[]}\n",
        "\n",
        "for id, name in enumerate(total_items):\n",
        "  classes['class_name'].append(name)\n",
        "  classes['id'].append(id)\n",
        "classes_df = pd.DataFrame(classes)\n",
        "classes_df.to_csv(path_or_buf='/content/data/classes/classes.csv', index=False)"
      ],
      "execution_count": null,
      "outputs": []
    },
    {
      "cell_type": "code",
      "metadata": {
        "id": "7wiMB5KKwvyA",
        "colab_type": "code",
        "colab": {}
      },
      "source": [
        "class_desc = pd.read_csv('class-descriptions-boxable.csv', names=['id', 'name'])"
      ],
      "execution_count": null,
      "outputs": []
    },
    {
      "cell_type": "code",
      "metadata": {
        "id": "r2I6gricx2cE",
        "colab_type": "code",
        "colab": {}
      },
      "source": [
        "train_annot = pd.read_csv('train-annotations-bbox.csv')"
      ],
      "execution_count": null,
      "outputs": []
    },
    {
      "cell_type": "code",
      "metadata": {
        "id": "6DfSDRp9x4cU",
        "colab_type": "code",
        "colab": {
          "base_uri": "https://localhost:8080/",
          "height": 194
        },
        "outputId": "72707d19-cad8-4ce9-c7d0-f67a7d47305c"
      },
      "source": [
        "train_annot.head()"
      ],
      "execution_count": null,
      "outputs": [
        {
          "output_type": "execute_result",
          "data": {
            "text/html": [
              "<div>\n",
              "<style scoped>\n",
              "    .dataframe tbody tr th:only-of-type {\n",
              "        vertical-align: middle;\n",
              "    }\n",
              "\n",
              "    .dataframe tbody tr th {\n",
              "        vertical-align: top;\n",
              "    }\n",
              "\n",
              "    .dataframe thead th {\n",
              "        text-align: right;\n",
              "    }\n",
              "</style>\n",
              "<table border=\"1\" class=\"dataframe\">\n",
              "  <thead>\n",
              "    <tr style=\"text-align: right;\">\n",
              "      <th></th>\n",
              "      <th>ImageID</th>\n",
              "      <th>Source</th>\n",
              "      <th>LabelName</th>\n",
              "      <th>Confidence</th>\n",
              "      <th>XMin</th>\n",
              "      <th>XMax</th>\n",
              "      <th>YMin</th>\n",
              "      <th>YMax</th>\n",
              "      <th>IsOccluded</th>\n",
              "      <th>IsTruncated</th>\n",
              "      <th>IsGroupOf</th>\n",
              "      <th>IsDepiction</th>\n",
              "      <th>IsInside</th>\n",
              "    </tr>\n",
              "  </thead>\n",
              "  <tbody>\n",
              "    <tr>\n",
              "      <th>0</th>\n",
              "      <td>000002b66c9c498e</td>\n",
              "      <td>xclick</td>\n",
              "      <td>/m/01g317</td>\n",
              "      <td>1</td>\n",
              "      <td>0.012500</td>\n",
              "      <td>0.195312</td>\n",
              "      <td>0.148438</td>\n",
              "      <td>0.587500</td>\n",
              "      <td>0</td>\n",
              "      <td>1</td>\n",
              "      <td>0</td>\n",
              "      <td>0</td>\n",
              "      <td>0</td>\n",
              "    </tr>\n",
              "    <tr>\n",
              "      <th>1</th>\n",
              "      <td>000002b66c9c498e</td>\n",
              "      <td>xclick</td>\n",
              "      <td>/m/01g317</td>\n",
              "      <td>1</td>\n",
              "      <td>0.025000</td>\n",
              "      <td>0.276563</td>\n",
              "      <td>0.714063</td>\n",
              "      <td>0.948438</td>\n",
              "      <td>0</td>\n",
              "      <td>1</td>\n",
              "      <td>0</td>\n",
              "      <td>0</td>\n",
              "      <td>0</td>\n",
              "    </tr>\n",
              "    <tr>\n",
              "      <th>2</th>\n",
              "      <td>000002b66c9c498e</td>\n",
              "      <td>xclick</td>\n",
              "      <td>/m/01g317</td>\n",
              "      <td>1</td>\n",
              "      <td>0.151562</td>\n",
              "      <td>0.310937</td>\n",
              "      <td>0.198437</td>\n",
              "      <td>0.590625</td>\n",
              "      <td>1</td>\n",
              "      <td>0</td>\n",
              "      <td>0</td>\n",
              "      <td>0</td>\n",
              "      <td>0</td>\n",
              "    </tr>\n",
              "    <tr>\n",
              "      <th>3</th>\n",
              "      <td>000002b66c9c498e</td>\n",
              "      <td>xclick</td>\n",
              "      <td>/m/01g317</td>\n",
              "      <td>1</td>\n",
              "      <td>0.256250</td>\n",
              "      <td>0.429688</td>\n",
              "      <td>0.651563</td>\n",
              "      <td>0.925000</td>\n",
              "      <td>1</td>\n",
              "      <td>0</td>\n",
              "      <td>0</td>\n",
              "      <td>0</td>\n",
              "      <td>0</td>\n",
              "    </tr>\n",
              "    <tr>\n",
              "      <th>4</th>\n",
              "      <td>000002b66c9c498e</td>\n",
              "      <td>xclick</td>\n",
              "      <td>/m/01g317</td>\n",
              "      <td>1</td>\n",
              "      <td>0.257812</td>\n",
              "      <td>0.346875</td>\n",
              "      <td>0.235938</td>\n",
              "      <td>0.385938</td>\n",
              "      <td>1</td>\n",
              "      <td>0</td>\n",
              "      <td>0</td>\n",
              "      <td>0</td>\n",
              "      <td>0</td>\n",
              "    </tr>\n",
              "  </tbody>\n",
              "</table>\n",
              "</div>"
            ],
            "text/plain": [
              "            ImageID  Source  LabelName  ...  IsGroupOf  IsDepiction  IsInside\n",
              "0  000002b66c9c498e  xclick  /m/01g317  ...          0            0         0\n",
              "1  000002b66c9c498e  xclick  /m/01g317  ...          0            0         0\n",
              "2  000002b66c9c498e  xclick  /m/01g317  ...          0            0         0\n",
              "3  000002b66c9c498e  xclick  /m/01g317  ...          0            0         0\n",
              "4  000002b66c9c498e  xclick  /m/01g317  ...          0            0         0\n",
              "\n",
              "[5 rows x 13 columns]"
            ]
          },
          "metadata": {
            "tags": []
          },
          "execution_count": 18
        }
      ]
    },
    {
      "cell_type": "code",
      "metadata": {
        "id": "5HaJMbMsydDs",
        "colab_type": "code",
        "colab": {}
      },
      "source": [
        "train_annotation = {\n",
        "    'location': [],\n",
        "    'x1': [],\n",
        "    'y1': [],\n",
        "    'x2': [],\n",
        "    'y2': [],\n",
        "}"
      ],
      "execution_count": null,
      "outputs": []
    },
    {
      "cell_type": "code",
      "metadata": {
        "id": "WWN4Mg2NzG-W",
        "colab_type": "code",
        "colab": {
          "base_uri": "https://localhost:8080/",
          "height": 194
        },
        "outputId": "2cc6b2b3-0674-4dc4-a896-5a742f01d5d6"
      },
      "source": [
        "class_desc.head()"
      ],
      "execution_count": null,
      "outputs": [
        {
          "output_type": "execute_result",
          "data": {
            "text/html": [
              "<div>\n",
              "<style scoped>\n",
              "    .dataframe tbody tr th:only-of-type {\n",
              "        vertical-align: middle;\n",
              "    }\n",
              "\n",
              "    .dataframe tbody tr th {\n",
              "        vertical-align: top;\n",
              "    }\n",
              "\n",
              "    .dataframe thead th {\n",
              "        text-align: right;\n",
              "    }\n",
              "</style>\n",
              "<table border=\"1\" class=\"dataframe\">\n",
              "  <thead>\n",
              "    <tr style=\"text-align: right;\">\n",
              "      <th></th>\n",
              "      <th>id</th>\n",
              "      <th>name</th>\n",
              "    </tr>\n",
              "  </thead>\n",
              "  <tbody>\n",
              "    <tr>\n",
              "      <th>0</th>\n",
              "      <td>/m/011k07</td>\n",
              "      <td>Tortoise</td>\n",
              "    </tr>\n",
              "    <tr>\n",
              "      <th>1</th>\n",
              "      <td>/m/011q46kg</td>\n",
              "      <td>Container</td>\n",
              "    </tr>\n",
              "    <tr>\n",
              "      <th>2</th>\n",
              "      <td>/m/012074</td>\n",
              "      <td>Magpie</td>\n",
              "    </tr>\n",
              "    <tr>\n",
              "      <th>3</th>\n",
              "      <td>/m/0120dh</td>\n",
              "      <td>Sea turtle</td>\n",
              "    </tr>\n",
              "    <tr>\n",
              "      <th>4</th>\n",
              "      <td>/m/01226z</td>\n",
              "      <td>Football</td>\n",
              "    </tr>\n",
              "  </tbody>\n",
              "</table>\n",
              "</div>"
            ],
            "text/plain": [
              "            id        name\n",
              "0    /m/011k07    Tortoise\n",
              "1  /m/011q46kg   Container\n",
              "2    /m/012074      Magpie\n",
              "3    /m/0120dh  Sea turtle\n",
              "4    /m/01226z    Football"
            ]
          },
          "metadata": {
            "tags": []
          },
          "execution_count": 20
        }
      ]
    },
    {
      "cell_type": "code",
      "metadata": {
        "id": "xPHj53-jzVTx",
        "colab_type": "code",
        "colab": {
          "base_uri": "https://localhost:8080/",
          "height": 76
        },
        "outputId": "f269842d-2458-4726-8ebf-ef16a95c7116"
      },
      "source": [
        "class_desc[class_desc['name']=='Bookcase']"
      ],
      "execution_count": null,
      "outputs": [
        {
          "output_type": "execute_result",
          "data": {
            "text/html": [
              "<div>\n",
              "<style scoped>\n",
              "    .dataframe tbody tr th:only-of-type {\n",
              "        vertical-align: middle;\n",
              "    }\n",
              "\n",
              "    .dataframe tbody tr th {\n",
              "        vertical-align: top;\n",
              "    }\n",
              "\n",
              "    .dataframe thead th {\n",
              "        text-align: right;\n",
              "    }\n",
              "</style>\n",
              "<table border=\"1\" class=\"dataframe\">\n",
              "  <thead>\n",
              "    <tr style=\"text-align: right;\">\n",
              "      <th></th>\n",
              "      <th>id</th>\n",
              "      <th>name</th>\n",
              "    </tr>\n",
              "  </thead>\n",
              "  <tbody>\n",
              "    <tr>\n",
              "      <th>268</th>\n",
              "      <td>/m/03__z0</td>\n",
              "      <td>Bookcase</td>\n",
              "    </tr>\n",
              "  </tbody>\n",
              "</table>\n",
              "</div>"
            ],
            "text/plain": [
              "            id      name\n",
              "268  /m/03__z0  Bookcase"
            ]
          },
          "metadata": {
            "tags": []
          },
          "execution_count": 21
        }
      ]
    },
    {
      "cell_type": "code",
      "metadata": {
        "id": "yTz029m-zfTi",
        "colab_type": "code",
        "colab": {
          "base_uri": "https://localhost:8080/",
          "height": 399
        },
        "outputId": "cb5a18d6-ac9d-499e-c5bf-c4463406a69e"
      },
      "source": [
        "train_annot[train_annot['LabelName']=='/m/03__z0']"
      ],
      "execution_count": null,
      "outputs": [
        {
          "output_type": "execute_result",
          "data": {
            "text/html": [
              "<div>\n",
              "<style scoped>\n",
              "    .dataframe tbody tr th:only-of-type {\n",
              "        vertical-align: middle;\n",
              "    }\n",
              "\n",
              "    .dataframe tbody tr th {\n",
              "        vertical-align: top;\n",
              "    }\n",
              "\n",
              "    .dataframe thead th {\n",
              "        text-align: right;\n",
              "    }\n",
              "</style>\n",
              "<table border=\"1\" class=\"dataframe\">\n",
              "  <thead>\n",
              "    <tr style=\"text-align: right;\">\n",
              "      <th></th>\n",
              "      <th>ImageID</th>\n",
              "      <th>Source</th>\n",
              "      <th>LabelName</th>\n",
              "      <th>Confidence</th>\n",
              "      <th>XMin</th>\n",
              "      <th>XMax</th>\n",
              "      <th>YMin</th>\n",
              "      <th>YMax</th>\n",
              "      <th>IsOccluded</th>\n",
              "      <th>IsTruncated</th>\n",
              "      <th>IsGroupOf</th>\n",
              "      <th>IsDepiction</th>\n",
              "      <th>IsInside</th>\n",
              "    </tr>\n",
              "  </thead>\n",
              "  <tbody>\n",
              "    <tr>\n",
              "      <th>811</th>\n",
              "      <td>00007902a7b96e8c</td>\n",
              "      <td>xclick</td>\n",
              "      <td>/m/03__z0</td>\n",
              "      <td>1</td>\n",
              "      <td>0.467712</td>\n",
              "      <td>0.999077</td>\n",
              "      <td>0.000000</td>\n",
              "      <td>0.351617</td>\n",
              "      <td>1</td>\n",
              "      <td>1</td>\n",
              "      <td>0</td>\n",
              "      <td>0</td>\n",
              "      <td>0</td>\n",
              "    </tr>\n",
              "    <tr>\n",
              "      <th>4623</th>\n",
              "      <td>00030b8c7652041d</td>\n",
              "      <td>xclick</td>\n",
              "      <td>/m/03__z0</td>\n",
              "      <td>1</td>\n",
              "      <td>0.000000</td>\n",
              "      <td>0.633681</td>\n",
              "      <td>0.000000</td>\n",
              "      <td>0.699074</td>\n",
              "      <td>1</td>\n",
              "      <td>1</td>\n",
              "      <td>0</td>\n",
              "      <td>0</td>\n",
              "      <td>0</td>\n",
              "    </tr>\n",
              "    <tr>\n",
              "      <th>8286</th>\n",
              "      <td>0005ab25224dfadf</td>\n",
              "      <td>xclick</td>\n",
              "      <td>/m/03__z0</td>\n",
              "      <td>1</td>\n",
              "      <td>0.000000</td>\n",
              "      <td>0.998750</td>\n",
              "      <td>0.000000</td>\n",
              "      <td>0.998124</td>\n",
              "      <td>0</td>\n",
              "      <td>1</td>\n",
              "      <td>0</td>\n",
              "      <td>0</td>\n",
              "      <td>0</td>\n",
              "    </tr>\n",
              "    <tr>\n",
              "      <th>11797</th>\n",
              "      <td>0008e0ae64dd9003</td>\n",
              "      <td>xclick</td>\n",
              "      <td>/m/03__z0</td>\n",
              "      <td>1</td>\n",
              "      <td>0.447592</td>\n",
              "      <td>0.966950</td>\n",
              "      <td>0.000000</td>\n",
              "      <td>0.651875</td>\n",
              "      <td>1</td>\n",
              "      <td>1</td>\n",
              "      <td>0</td>\n",
              "      <td>0</td>\n",
              "      <td>0</td>\n",
              "    </tr>\n",
              "    <tr>\n",
              "      <th>12410</th>\n",
              "      <td>00095dfd91f26594</td>\n",
              "      <td>xclick</td>\n",
              "      <td>/m/03__z0</td>\n",
              "      <td>1</td>\n",
              "      <td>0.921875</td>\n",
              "      <td>0.999375</td>\n",
              "      <td>0.289869</td>\n",
              "      <td>0.637899</td>\n",
              "      <td>0</td>\n",
              "      <td>1</td>\n",
              "      <td>0</td>\n",
              "      <td>0</td>\n",
              "      <td>0</td>\n",
              "    </tr>\n",
              "    <tr>\n",
              "      <th>...</th>\n",
              "      <td>...</td>\n",
              "      <td>...</td>\n",
              "      <td>...</td>\n",
              "      <td>...</td>\n",
              "      <td>...</td>\n",
              "      <td>...</td>\n",
              "      <td>...</td>\n",
              "      <td>...</td>\n",
              "      <td>...</td>\n",
              "      <td>...</td>\n",
              "      <td>...</td>\n",
              "      <td>...</td>\n",
              "      <td>...</td>\n",
              "    </tr>\n",
              "    <tr>\n",
              "      <th>14604071</th>\n",
              "      <td>ffde8d5389ea8307</td>\n",
              "      <td>xclick</td>\n",
              "      <td>/m/03__z0</td>\n",
              "      <td>1</td>\n",
              "      <td>0.000000</td>\n",
              "      <td>0.998148</td>\n",
              "      <td>0.000000</td>\n",
              "      <td>0.998768</td>\n",
              "      <td>1</td>\n",
              "      <td>1</td>\n",
              "      <td>1</td>\n",
              "      <td>0</td>\n",
              "      <td>0</td>\n",
              "    </tr>\n",
              "    <tr>\n",
              "      <th>14608357</th>\n",
              "      <td>fff54e8817b2b63d</td>\n",
              "      <td>activemil</td>\n",
              "      <td>/m/03__z0</td>\n",
              "      <td>1</td>\n",
              "      <td>0.000000</td>\n",
              "      <td>0.501250</td>\n",
              "      <td>0.388333</td>\n",
              "      <td>0.664167</td>\n",
              "      <td>1</td>\n",
              "      <td>1</td>\n",
              "      <td>0</td>\n",
              "      <td>0</td>\n",
              "      <td>0</td>\n",
              "    </tr>\n",
              "    <tr>\n",
              "      <th>14608359</th>\n",
              "      <td>fff54e8817b2b63d</td>\n",
              "      <td>xclick</td>\n",
              "      <td>/m/03__z0</td>\n",
              "      <td>1</td>\n",
              "      <td>0.640000</td>\n",
              "      <td>0.999375</td>\n",
              "      <td>0.412500</td>\n",
              "      <td>0.651667</td>\n",
              "      <td>1</td>\n",
              "      <td>1</td>\n",
              "      <td>0</td>\n",
              "      <td>0</td>\n",
              "      <td>0</td>\n",
              "    </tr>\n",
              "    <tr>\n",
              "      <th>14608759</th>\n",
              "      <td>fff78bd6c7b8048a</td>\n",
              "      <td>activemil</td>\n",
              "      <td>/m/03__z0</td>\n",
              "      <td>1</td>\n",
              "      <td>0.610000</td>\n",
              "      <td>0.993333</td>\n",
              "      <td>0.363125</td>\n",
              "      <td>0.975625</td>\n",
              "      <td>1</td>\n",
              "      <td>1</td>\n",
              "      <td>0</td>\n",
              "      <td>0</td>\n",
              "      <td>0</td>\n",
              "    </tr>\n",
              "    <tr>\n",
              "      <th>14608762</th>\n",
              "      <td>fff78bd6c7b8048a</td>\n",
              "      <td>xclick</td>\n",
              "      <td>/m/03__z0</td>\n",
              "      <td>1</td>\n",
              "      <td>0.000000</td>\n",
              "      <td>0.503333</td>\n",
              "      <td>0.417500</td>\n",
              "      <td>0.841250</td>\n",
              "      <td>1</td>\n",
              "      <td>1</td>\n",
              "      <td>0</td>\n",
              "      <td>0</td>\n",
              "      <td>0</td>\n",
              "    </tr>\n",
              "  </tbody>\n",
              "</table>\n",
              "<p>5307 rows × 13 columns</p>\n",
              "</div>"
            ],
            "text/plain": [
              "                   ImageID     Source  ... IsDepiction  IsInside\n",
              "811       00007902a7b96e8c     xclick  ...           0         0\n",
              "4623      00030b8c7652041d     xclick  ...           0         0\n",
              "8286      0005ab25224dfadf     xclick  ...           0         0\n",
              "11797     0008e0ae64dd9003     xclick  ...           0         0\n",
              "12410     00095dfd91f26594     xclick  ...           0         0\n",
              "...                    ...        ...  ...         ...       ...\n",
              "14604071  ffde8d5389ea8307     xclick  ...           0         0\n",
              "14608357  fff54e8817b2b63d  activemil  ...           0         0\n",
              "14608359  fff54e8817b2b63d     xclick  ...           0         0\n",
              "14608759  fff78bd6c7b8048a  activemil  ...           0         0\n",
              "14608762  fff78bd6c7b8048a     xclick  ...           0         0\n",
              "\n",
              "[5307 rows x 13 columns]"
            ]
          },
          "metadata": {
            "tags": []
          },
          "execution_count": 22
        }
      ]
    },
    {
      "cell_type": "code",
      "metadata": {
        "id": "7Wip1eoVzzPo",
        "colab_type": "code",
        "colab": {
          "base_uri": "https://localhost:8080/",
          "height": 35
        },
        "outputId": "1e0c0448-225c-439c-cfc1-002d50558e21"
      },
      "source": [
        "import os\n",
        "name_of_images = []\n",
        "for file in os.listdir(\"/content/data/images/bathroom accessory/images\"):\n",
        "  l.append(file[:-4])\n",
        "\n",
        "print(l[:5])"
      ],
      "execution_count": null,
      "outputs": [
        {
          "output_type": "stream",
          "text": [
            "['f089e8783afb9731', '67993a88af3ecd44', 'a305d61e68f66ea7', '73ec725bb7b666f0', 'aa0069f51b547657']\n"
          ],
          "name": "stdout"
        }
      ]
    },
    {
      "cell_type": "code",
      "metadata": {
        "id": "aOqjbuff12tS",
        "colab_type": "code",
        "colab": {}
      },
      "source": [
        "train_annot.drop(['Source', 'IsOccluded', 'IsTruncated', 'IsGroupOf', 'IsDepiction', 'IsInside', 'Confidence'], axis=1, inplace=True)"
      ],
      "execution_count": null,
      "outputs": []
    },
    {
      "cell_type": "code",
      "metadata": {
        "id": "H6Soxdrf2GGr",
        "colab_type": "code",
        "colab": {}
      },
      "source": [
        "id_list = []\n",
        "for class_name in total_items:\n",
        "  id_list.append(class_desc[class_desc['name']==class_name]['id'].values[0])\n",
        "\n",
        "new_df = train_annot[train_annot['LabelName'].isin(id_list)].reset_index()\n"
      ],
      "execution_count": null,
      "outputs": []
    },
    {
      "cell_type": "code",
      "metadata": {
        "id": "GXC5Pza1HJc-",
        "colab_type": "code",
        "colab": {}
      },
      "source": [
        "train_annotation = {\n",
        "    'location': [],\n",
        "    'x1': [],\n",
        "    'y1': [],\n",
        "    'x2': [],\n",
        "    'y2': [],\n",
        "    'class_name': []\n",
        "}\n",
        "\n",
        "for i in range(new_df.shape[0]):\n",
        "  image_id = new_df.loc[i]['ImageID']\n",
        "  id_name = new_df.loc[i]['LabelName']\n",
        "  class_name = id_to_class[id_name]\n",
        "  path = '/content/data/images/' + class_name + '/images' + image_id + '.jpg'\n",
        "  x1 = new_df.loc[i]['XMin']\n",
        "  x2 = new_df.loc[i]['XMax']\n",
        "  y1 = new_df.loc[i]['YMin']\n",
        "  y2 = new_df.loc[i]['XMax']\n",
        "\n",
        "  train_annotation['location'].append(path)\n",
        "  train_annotation['x1'].append(x1)\n",
        "  train_annotation['x2'].append(x2)\n",
        "  train_annotation['y1'].append(y1)\n",
        "  train_annotation['y2'].append(y2)\n",
        "  train_annotation['class_name'].append(class_name)\n"
      ],
      "execution_count": null,
      "outputs": []
    },
    {
      "cell_type": "code",
      "metadata": {
        "id": "znVTGtkYIhp5",
        "colab_type": "code",
        "colab": {}
      },
      "source": [
        "id_to_class = dict()\n",
        "for class_name, id_name in zip(total_items, id_list):\n",
        "  id_to_class[id_name] = class_name"
      ],
      "execution_count": null,
      "outputs": []
    },
    {
      "cell_type": "code",
      "metadata": {
        "id": "Cc1PJIJ1MhDm",
        "colab_type": "code",
        "colab": {
          "base_uri": "https://localhost:8080/",
          "height": 141
        },
        "outputId": "ed4ecc55-2597-4335-acb3-0aedc9607653"
      },
      "source": [
        "for i in new_df:\n",
        "  print(i)"
      ],
      "execution_count": null,
      "outputs": [
        {
          "output_type": "stream",
          "text": [
            "index\n",
            "ImageID\n",
            "LabelName\n",
            "XMin\n",
            "XMax\n",
            "YMin\n",
            "YMax\n"
          ],
          "name": "stdout"
        }
      ]
    },
    {
      "cell_type": "code",
      "metadata": {
        "id": "xEZ2pdnFNnMU",
        "colab_type": "code",
        "colab": {
          "base_uri": "https://localhost:8080/",
          "height": 36
        },
        "outputId": "c63a18b5-4e0d-4a4c-fa8a-ac7d10a97ee8"
      },
      "source": [
        "new_df.loc[5]['LabelName']"
      ],
      "execution_count": null,
      "outputs": [
        {
          "output_type": "execute_result",
          "data": {
            "application/vnd.google.colaboratory.intrinsic": {
              "type": "string"
            },
            "text/plain": [
              "'/m/04bcr3'"
            ]
          },
          "metadata": {
            "tags": []
          },
          "execution_count": 104
        }
      ]
    },
    {
      "cell_type": "code",
      "metadata": {
        "id": "Iner1ROvOHPq",
        "colab_type": "code",
        "colab": {}
      },
      "source": [
        "def form_annotation_file(df):\n",
        "  annotation = {\n",
        "    'location': [],\n",
        "    'x1': [],\n",
        "    'y1': [],\n",
        "    'x2': [],\n",
        "    'y2': [],\n",
        "    'class_name': []\n",
        "  }\n",
        "\n",
        "  new_df = df[df['LabelName'].isin(id_list)].reset_index()\n",
        "  new_df = new_df[new_df['ImageID'].isin(name_of_images)].reset_index()\n",
        "  print(new_df.shape)\n",
        "  for i in range(new_df.shape[0]):\n",
        "    image_id = new_df.loc[i]['ImageID']\n",
        "    id_name = new_df.loc[i]['LabelName']\n",
        "\n",
        "    class_name = id_to_class[id_name]\n",
        "    path = '/content/data/images/' + class_name.lower() + '/images/' + image_id + '.jpg'\n",
        "    x1 = new_df.loc[i]['XMin']\n",
        "    x2 = new_df.loc[i]['XMax']\n",
        "    y1 = new_df.loc[i]['YMin']\n",
        "    y2 = new_df.loc[i]['XMax']\n",
        "\n",
        "    annotation['location'].append(path)\n",
        "    annotation['x1'].append(x1)\n",
        "    annotation['x2'].append(x2)\n",
        "    annotation['y1'].append(y1)\n",
        "    annotation['y2'].append(y2)\n",
        "    annotation['class_name'].append(class_name)\n",
        "\n",
        "  return pd.DataFrame(annotation)"
      ],
      "execution_count": null,
      "outputs": []
    },
    {
      "cell_type": "code",
      "metadata": {
        "id": "VPhj8dfLRDrm",
        "colab_type": "code",
        "colab": {}
      },
      "source": [
        "annotation = pd.DataFrame(train_annotation)"
      ],
      "execution_count": null,
      "outputs": []
    },
    {
      "cell_type": "code",
      "metadata": {
        "id": "3RWQyydpRLlm",
        "colab_type": "code",
        "colab": {
          "base_uri": "https://localhost:8080/",
          "height": 399
        },
        "outputId": "5fdec5b4-ca4b-4cc5-fe35-f5ffbab51c16"
      },
      "source": [
        "annotation"
      ],
      "execution_count": null,
      "outputs": [
        {
          "output_type": "execute_result",
          "data": {
            "text/html": [
              "<div>\n",
              "<style scoped>\n",
              "    .dataframe tbody tr th:only-of-type {\n",
              "        vertical-align: middle;\n",
              "    }\n",
              "\n",
              "    .dataframe tbody tr th {\n",
              "        vertical-align: top;\n",
              "    }\n",
              "\n",
              "    .dataframe thead th {\n",
              "        text-align: right;\n",
              "    }\n",
              "</style>\n",
              "<table border=\"1\" class=\"dataframe\">\n",
              "  <thead>\n",
              "    <tr style=\"text-align: right;\">\n",
              "      <th></th>\n",
              "      <th>location</th>\n",
              "      <th>x1</th>\n",
              "      <th>y1</th>\n",
              "      <th>x2</th>\n",
              "      <th>y2</th>\n",
              "      <th>class_name</th>\n",
              "    </tr>\n",
              "  </thead>\n",
              "  <tbody>\n",
              "    <tr>\n",
              "      <th>0</th>\n",
              "      <td>/content/data/images/Table/images000002b66c9c4...</td>\n",
              "      <td>0.064062</td>\n",
              "      <td>0.889063</td>\n",
              "      <td>0.492188</td>\n",
              "      <td>0.492188</td>\n",
              "      <td>Table</td>\n",
              "    </tr>\n",
              "    <tr>\n",
              "      <th>1</th>\n",
              "      <td>/content/data/images/Table/images000002b66c9c4...</td>\n",
              "      <td>0.301562</td>\n",
              "      <td>0.462500</td>\n",
              "      <td>0.990625</td>\n",
              "      <td>0.990625</td>\n",
              "      <td>Table</td>\n",
              "    </tr>\n",
              "    <tr>\n",
              "      <th>2</th>\n",
              "      <td>/content/data/images/Table/images000002b66c9c4...</td>\n",
              "      <td>0.312500</td>\n",
              "      <td>0.351562</td>\n",
              "      <td>0.578125</td>\n",
              "      <td>0.578125</td>\n",
              "      <td>Table</td>\n",
              "    </tr>\n",
              "    <tr>\n",
              "      <th>3</th>\n",
              "      <td>/content/data/images/Table/images000020780ccee...</td>\n",
              "      <td>0.000000</td>\n",
              "      <td>0.608125</td>\n",
              "      <td>0.850709</td>\n",
              "      <td>0.850709</td>\n",
              "      <td>Table</td>\n",
              "    </tr>\n",
              "    <tr>\n",
              "      <th>4</th>\n",
              "      <td>/content/data/images/Laptop/images000060e3121c...</td>\n",
              "      <td>0.322500</td>\n",
              "      <td>0.580131</td>\n",
              "      <td>0.389375</td>\n",
              "      <td>0.389375</td>\n",
              "      <td>Laptop</td>\n",
              "    </tr>\n",
              "    <tr>\n",
              "      <th>...</th>\n",
              "      <td>...</td>\n",
              "      <td>...</td>\n",
              "      <td>...</td>\n",
              "      <td>...</td>\n",
              "      <td>...</td>\n",
              "      <td>...</td>\n",
              "    </tr>\n",
              "    <tr>\n",
              "      <th>198129</th>\n",
              "      <td>/content/data/images/Table/imagesfff9d0c14a4e5...</td>\n",
              "      <td>0.514563</td>\n",
              "      <td>0.698571</td>\n",
              "      <td>0.588997</td>\n",
              "      <td>0.588997</td>\n",
              "      <td>Table</td>\n",
              "    </tr>\n",
              "    <tr>\n",
              "      <th>198130</th>\n",
              "      <td>/content/data/images/Table/imagesfff9d5ffb0d87...</td>\n",
              "      <td>0.000000</td>\n",
              "      <td>0.686747</td>\n",
              "      <td>0.151000</td>\n",
              "      <td>0.151000</td>\n",
              "      <td>Table</td>\n",
              "    </tr>\n",
              "    <tr>\n",
              "      <th>198131</th>\n",
              "      <td>/content/data/images/Furniture/imagesfffc47ab8...</td>\n",
              "      <td>0.170732</td>\n",
              "      <td>0.710000</td>\n",
              "      <td>0.999062</td>\n",
              "      <td>0.999062</td>\n",
              "      <td>Furniture</td>\n",
              "    </tr>\n",
              "    <tr>\n",
              "      <th>198132</th>\n",
              "      <td>/content/data/images/Furniture/imagesfffc47ab8...</td>\n",
              "      <td>0.298311</td>\n",
              "      <td>0.433125</td>\n",
              "      <td>0.954972</td>\n",
              "      <td>0.954972</td>\n",
              "      <td>Furniture</td>\n",
              "    </tr>\n",
              "    <tr>\n",
              "      <th>198133</th>\n",
              "      <td>/content/data/images/Laptop/imagesffff83c6a0e1...</td>\n",
              "      <td>0.318125</td>\n",
              "      <td>0.675000</td>\n",
              "      <td>0.515625</td>\n",
              "      <td>0.515625</td>\n",
              "      <td>Laptop</td>\n",
              "    </tr>\n",
              "  </tbody>\n",
              "</table>\n",
              "<p>198134 rows × 6 columns</p>\n",
              "</div>"
            ],
            "text/plain": [
              "                                                 location  ...  class_name\n",
              "0       /content/data/images/Table/images000002b66c9c4...  ...       Table\n",
              "1       /content/data/images/Table/images000002b66c9c4...  ...       Table\n",
              "2       /content/data/images/Table/images000002b66c9c4...  ...       Table\n",
              "3       /content/data/images/Table/images000020780ccee...  ...       Table\n",
              "4       /content/data/images/Laptop/images000060e3121c...  ...      Laptop\n",
              "...                                                   ...  ...         ...\n",
              "198129  /content/data/images/Table/imagesfff9d0c14a4e5...  ...       Table\n",
              "198130  /content/data/images/Table/imagesfff9d5ffb0d87...  ...       Table\n",
              "198131  /content/data/images/Furniture/imagesfffc47ab8...  ...   Furniture\n",
              "198132  /content/data/images/Furniture/imagesfffc47ab8...  ...   Furniture\n",
              "198133  /content/data/images/Laptop/imagesffff83c6a0e1...  ...      Laptop\n",
              "\n",
              "[198134 rows x 6 columns]"
            ]
          },
          "metadata": {
            "tags": []
          },
          "execution_count": 110
        }
      ]
    },
    {
      "cell_type": "code",
      "metadata": {
        "id": "ey4DTXhbRNVk",
        "colab_type": "code",
        "colab": {}
      },
      "source": [
        "train_file = pd.read_csv('train-annotations-bbox.csv')\n",
        "test_file = pd.read_csv('test-annotations-bbox.csv')\n",
        "validation_file = pd.read_csv('validation-annotations-bbox.csv')"
      ],
      "execution_count": null,
      "outputs": []
    },
    {
      "cell_type": "code",
      "metadata": {
        "id": "290TWihxTE0C",
        "colab_type": "code",
        "colab": {
          "base_uri": "https://localhost:8080/",
          "height": 70
        },
        "outputId": "e9948efb-3251-4be4-82bc-b922480114e8"
      },
      "source": [
        "train_annotation =\n",
        "test_annotation = form_annotation_file(test_file)\n",
        "validation_annotation = form_annotation_file(validation_file)"
      ],
      "execution_count": null,
      "outputs": [
        {
          "output_type": "stream",
          "text": [
            "(85092, 15)\n",
            "(6917, 15)\n",
            "(2267, 15)\n"
          ],
          "name": "stdout"
        }
      ]
    },
    {
      "cell_type": "code",
      "metadata": {
        "id": "7_S0VBRkTdWc",
        "colab_type": "code",
        "colab": {
          "base_uri": "https://localhost:8080/",
          "height": 399
        },
        "outputId": "5bbbbd62-a72d-4325-a22d-7f4d980fd59e"
      },
      "source": [
        "validation_annotation"
      ],
      "execution_count": null,
      "outputs": [
        {
          "output_type": "execute_result",
          "data": {
            "text/html": [
              "<div>\n",
              "<style scoped>\n",
              "    .dataframe tbody tr th:only-of-type {\n",
              "        vertical-align: middle;\n",
              "    }\n",
              "\n",
              "    .dataframe tbody tr th {\n",
              "        vertical-align: top;\n",
              "    }\n",
              "\n",
              "    .dataframe thead th {\n",
              "        text-align: right;\n",
              "    }\n",
              "</style>\n",
              "<table border=\"1\" class=\"dataframe\">\n",
              "  <thead>\n",
              "    <tr style=\"text-align: right;\">\n",
              "      <th></th>\n",
              "      <th>location</th>\n",
              "      <th>x1</th>\n",
              "      <th>y1</th>\n",
              "      <th>x2</th>\n",
              "      <th>y2</th>\n",
              "      <th>class_name</th>\n",
              "    </tr>\n",
              "  </thead>\n",
              "  <tbody>\n",
              "    <tr>\n",
              "      <th>0</th>\n",
              "      <td>/content/data/images/table/images/00173afdc758...</td>\n",
              "      <td>0.000000</td>\n",
              "      <td>0.767857</td>\n",
              "      <td>0.863839</td>\n",
              "      <td>0.863839</td>\n",
              "      <td>Table</td>\n",
              "    </tr>\n",
              "    <tr>\n",
              "      <th>1</th>\n",
              "      <td>/content/data/images/furniture/images/00377532...</td>\n",
              "      <td>0.000000</td>\n",
              "      <td>0.095870</td>\n",
              "      <td>1.000000</td>\n",
              "      <td>1.000000</td>\n",
              "      <td>Furniture</td>\n",
              "    </tr>\n",
              "    <tr>\n",
              "      <th>2</th>\n",
              "      <td>/content/data/images/table/images/003775320f1d...</td>\n",
              "      <td>0.000000</td>\n",
              "      <td>0.284661</td>\n",
              "      <td>1.000000</td>\n",
              "      <td>1.000000</td>\n",
              "      <td>Table</td>\n",
              "    </tr>\n",
              "    <tr>\n",
              "      <th>3</th>\n",
              "      <td>/content/data/images/table/images/0052ea56ee86...</td>\n",
              "      <td>0.000000</td>\n",
              "      <td>0.366667</td>\n",
              "      <td>1.000000</td>\n",
              "      <td>1.000000</td>\n",
              "      <td>Table</td>\n",
              "    </tr>\n",
              "    <tr>\n",
              "      <th>4</th>\n",
              "      <td>/content/data/images/television/images/007f716...</td>\n",
              "      <td>0.000000</td>\n",
              "      <td>0.000000</td>\n",
              "      <td>1.000000</td>\n",
              "      <td>1.000000</td>\n",
              "      <td>Television</td>\n",
              "    </tr>\n",
              "    <tr>\n",
              "      <th>...</th>\n",
              "      <td>...</td>\n",
              "      <td>...</td>\n",
              "      <td>...</td>\n",
              "      <td>...</td>\n",
              "      <td>...</td>\n",
              "      <td>...</td>\n",
              "    </tr>\n",
              "    <tr>\n",
              "      <th>4164</th>\n",
              "      <td>/content/data/images/furniture/images/ff32d94a...</td>\n",
              "      <td>0.390602</td>\n",
              "      <td>0.308204</td>\n",
              "      <td>0.518355</td>\n",
              "      <td>0.518355</td>\n",
              "      <td>Furniture</td>\n",
              "    </tr>\n",
              "    <tr>\n",
              "      <th>4165</th>\n",
              "      <td>/content/data/images/television/images/ff5e1a9...</td>\n",
              "      <td>0.074367</td>\n",
              "      <td>0.103093</td>\n",
              "      <td>0.912975</td>\n",
              "      <td>0.912975</td>\n",
              "      <td>Television</td>\n",
              "    </tr>\n",
              "    <tr>\n",
              "      <th>4166</th>\n",
              "      <td>/content/data/images/furniture/images/ff7822ae...</td>\n",
              "      <td>0.000000</td>\n",
              "      <td>0.000000</td>\n",
              "      <td>1.000000</td>\n",
              "      <td>1.000000</td>\n",
              "      <td>Furniture</td>\n",
              "    </tr>\n",
              "    <tr>\n",
              "      <th>4167</th>\n",
              "      <td>/content/data/images/television/images/ff9d6b8...</td>\n",
              "      <td>0.036101</td>\n",
              "      <td>0.086643</td>\n",
              "      <td>0.985560</td>\n",
              "      <td>0.985560</td>\n",
              "      <td>Television</td>\n",
              "    </tr>\n",
              "    <tr>\n",
              "      <th>4168</th>\n",
              "      <td>/content/data/images/table/images/fff3ce694bc0...</td>\n",
              "      <td>0.000000</td>\n",
              "      <td>0.541298</td>\n",
              "      <td>1.000000</td>\n",
              "      <td>1.000000</td>\n",
              "      <td>Table</td>\n",
              "    </tr>\n",
              "  </tbody>\n",
              "</table>\n",
              "<p>4169 rows × 6 columns</p>\n",
              "</div>"
            ],
            "text/plain": [
              "                                               location  ...  class_name\n",
              "0     /content/data/images/table/images/00173afdc758...  ...       Table\n",
              "1     /content/data/images/furniture/images/00377532...  ...   Furniture\n",
              "2     /content/data/images/table/images/003775320f1d...  ...       Table\n",
              "3     /content/data/images/table/images/0052ea56ee86...  ...       Table\n",
              "4     /content/data/images/television/images/007f716...  ...  Television\n",
              "...                                                 ...  ...         ...\n",
              "4164  /content/data/images/furniture/images/ff32d94a...  ...   Furniture\n",
              "4165  /content/data/images/television/images/ff5e1a9...  ...  Television\n",
              "4166  /content/data/images/furniture/images/ff7822ae...  ...   Furniture\n",
              "4167  /content/data/images/television/images/ff9d6b8...  ...  Television\n",
              "4168  /content/data/images/table/images/fff3ce694bc0...  ...       Table\n",
              "\n",
              "[4169 rows x 6 columns]"
            ]
          },
          "metadata": {
            "tags": []
          },
          "execution_count": 144
        }
      ]
    },
    {
      "cell_type": "code",
      "metadata": {
        "id": "csvSexnwTr-7",
        "colab_type": "code",
        "colab": {
          "base_uri": "https://localhost:8080/",
          "height": 399
        },
        "outputId": "1b122169-b61d-4c12-bb12-562e9a5f91ce"
      },
      "source": [
        "validation_"
      ],
      "execution_count": null,
      "outputs": [
        {
          "output_type": "execute_result",
          "data": {
            "text/html": [
              "<div>\n",
              "<style scoped>\n",
              "    .dataframe tbody tr th:only-of-type {\n",
              "        vertical-align: middle;\n",
              "    }\n",
              "\n",
              "    .dataframe tbody tr th {\n",
              "        vertical-align: top;\n",
              "    }\n",
              "\n",
              "    .dataframe thead th {\n",
              "        text-align: right;\n",
              "    }\n",
              "</style>\n",
              "<table border=\"1\" class=\"dataframe\">\n",
              "  <thead>\n",
              "    <tr style=\"text-align: right;\">\n",
              "      <th></th>\n",
              "      <th>ImageID</th>\n",
              "      <th>Source</th>\n",
              "      <th>LabelName</th>\n",
              "      <th>Confidence</th>\n",
              "      <th>XMin</th>\n",
              "      <th>XMax</th>\n",
              "      <th>YMin</th>\n",
              "      <th>YMax</th>\n",
              "      <th>IsOccluded</th>\n",
              "      <th>IsTruncated</th>\n",
              "      <th>IsGroupOf</th>\n",
              "      <th>IsDepiction</th>\n",
              "      <th>IsInside</th>\n",
              "    </tr>\n",
              "  </thead>\n",
              "  <tbody>\n",
              "    <tr>\n",
              "      <th>0</th>\n",
              "      <td>0001eeaf4aed83f9</td>\n",
              "      <td>xclick</td>\n",
              "      <td>/m/0cmf2</td>\n",
              "      <td>1</td>\n",
              "      <td>0.022673</td>\n",
              "      <td>0.964200</td>\n",
              "      <td>0.071038</td>\n",
              "      <td>0.800546</td>\n",
              "      <td>0</td>\n",
              "      <td>0</td>\n",
              "      <td>0</td>\n",
              "      <td>0</td>\n",
              "      <td>0</td>\n",
              "    </tr>\n",
              "    <tr>\n",
              "      <th>1</th>\n",
              "      <td>000595fe6fee6369</td>\n",
              "      <td>xclick</td>\n",
              "      <td>/m/02wbm</td>\n",
              "      <td>1</td>\n",
              "      <td>0.000000</td>\n",
              "      <td>1.000000</td>\n",
              "      <td>0.000000</td>\n",
              "      <td>1.000000</td>\n",
              "      <td>0</td>\n",
              "      <td>0</td>\n",
              "      <td>1</td>\n",
              "      <td>0</td>\n",
              "      <td>0</td>\n",
              "    </tr>\n",
              "    <tr>\n",
              "      <th>2</th>\n",
              "      <td>000595fe6fee6369</td>\n",
              "      <td>xclick</td>\n",
              "      <td>/m/02xwb</td>\n",
              "      <td>1</td>\n",
              "      <td>0.141384</td>\n",
              "      <td>0.179676</td>\n",
              "      <td>0.676275</td>\n",
              "      <td>0.731707</td>\n",
              "      <td>0</td>\n",
              "      <td>0</td>\n",
              "      <td>0</td>\n",
              "      <td>0</td>\n",
              "      <td>0</td>\n",
              "    </tr>\n",
              "    <tr>\n",
              "      <th>3</th>\n",
              "      <td>000595fe6fee6369</td>\n",
              "      <td>xclick</td>\n",
              "      <td>/m/02xwb</td>\n",
              "      <td>1</td>\n",
              "      <td>0.213549</td>\n",
              "      <td>0.253314</td>\n",
              "      <td>0.299335</td>\n",
              "      <td>0.354767</td>\n",
              "      <td>1</td>\n",
              "      <td>0</td>\n",
              "      <td>0</td>\n",
              "      <td>0</td>\n",
              "      <td>0</td>\n",
              "    </tr>\n",
              "    <tr>\n",
              "      <th>4</th>\n",
              "      <td>000595fe6fee6369</td>\n",
              "      <td>xclick</td>\n",
              "      <td>/m/02xwb</td>\n",
              "      <td>1</td>\n",
              "      <td>0.232695</td>\n",
              "      <td>0.288660</td>\n",
              "      <td>0.490022</td>\n",
              "      <td>0.545455</td>\n",
              "      <td>1</td>\n",
              "      <td>0</td>\n",
              "      <td>0</td>\n",
              "      <td>0</td>\n",
              "      <td>0</td>\n",
              "    </tr>\n",
              "    <tr>\n",
              "      <th>...</th>\n",
              "      <td>...</td>\n",
              "      <td>...</td>\n",
              "      <td>...</td>\n",
              "      <td>...</td>\n",
              "      <td>...</td>\n",
              "      <td>...</td>\n",
              "      <td>...</td>\n",
              "      <td>...</td>\n",
              "      <td>...</td>\n",
              "      <td>...</td>\n",
              "      <td>...</td>\n",
              "      <td>...</td>\n",
              "      <td>...</td>\n",
              "    </tr>\n",
              "    <tr>\n",
              "      <th>303975</th>\n",
              "      <td>ffff21932da3ed01</td>\n",
              "      <td>xclick</td>\n",
              "      <td>/m/03fp41</td>\n",
              "      <td>1</td>\n",
              "      <td>0.178125</td>\n",
              "      <td>0.710938</td>\n",
              "      <td>0.412500</td>\n",
              "      <td>0.579167</td>\n",
              "      <td>0</td>\n",
              "      <td>0</td>\n",
              "      <td>1</td>\n",
              "      <td>0</td>\n",
              "      <td>0</td>\n",
              "    </tr>\n",
              "    <tr>\n",
              "      <th>303976</th>\n",
              "      <td>ffff21932da3ed01</td>\n",
              "      <td>xclick</td>\n",
              "      <td>/m/01g317</td>\n",
              "      <td>1</td>\n",
              "      <td>0.000000</td>\n",
              "      <td>0.015625</td>\n",
              "      <td>0.345833</td>\n",
              "      <td>0.414583</td>\n",
              "      <td>0</td>\n",
              "      <td>1</td>\n",
              "      <td>0</td>\n",
              "      <td>1</td>\n",
              "      <td>0</td>\n",
              "    </tr>\n",
              "    <tr>\n",
              "      <th>303977</th>\n",
              "      <td>ffff21932da3ed01</td>\n",
              "      <td>xclick</td>\n",
              "      <td>/m/01g317</td>\n",
              "      <td>1</td>\n",
              "      <td>0.062500</td>\n",
              "      <td>0.085938</td>\n",
              "      <td>0.431250</td>\n",
              "      <td>0.529167</td>\n",
              "      <td>1</td>\n",
              "      <td>0</td>\n",
              "      <td>0</td>\n",
              "      <td>0</td>\n",
              "      <td>0</td>\n",
              "    </tr>\n",
              "    <tr>\n",
              "      <th>303978</th>\n",
              "      <td>ffff21932da3ed01</td>\n",
              "      <td>xclick</td>\n",
              "      <td>/m/0c9ph5</td>\n",
              "      <td>1</td>\n",
              "      <td>0.323437</td>\n",
              "      <td>0.409375</td>\n",
              "      <td>0.464583</td>\n",
              "      <td>0.554167</td>\n",
              "      <td>0</td>\n",
              "      <td>0</td>\n",
              "      <td>1</td>\n",
              "      <td>0</td>\n",
              "      <td>0</td>\n",
              "    </tr>\n",
              "    <tr>\n",
              "      <th>303979</th>\n",
              "      <td>ffff21932da3ed01</td>\n",
              "      <td>xclick</td>\n",
              "      <td>/m/0c9ph5</td>\n",
              "      <td>1</td>\n",
              "      <td>0.540625</td>\n",
              "      <td>0.625000</td>\n",
              "      <td>0.493750</td>\n",
              "      <td>0.577083</td>\n",
              "      <td>1</td>\n",
              "      <td>0</td>\n",
              "      <td>1</td>\n",
              "      <td>0</td>\n",
              "      <td>0</td>\n",
              "    </tr>\n",
              "  </tbody>\n",
              "</table>\n",
              "<p>303980 rows × 13 columns</p>\n",
              "</div>"
            ],
            "text/plain": [
              "                 ImageID  Source  LabelName  ...  IsGroupOf  IsDepiction  IsInside\n",
              "0       0001eeaf4aed83f9  xclick   /m/0cmf2  ...          0            0         0\n",
              "1       000595fe6fee6369  xclick   /m/02wbm  ...          1            0         0\n",
              "2       000595fe6fee6369  xclick   /m/02xwb  ...          0            0         0\n",
              "3       000595fe6fee6369  xclick   /m/02xwb  ...          0            0         0\n",
              "4       000595fe6fee6369  xclick   /m/02xwb  ...          0            0         0\n",
              "...                  ...     ...        ...  ...        ...          ...       ...\n",
              "303975  ffff21932da3ed01  xclick  /m/03fp41  ...          1            0         0\n",
              "303976  ffff21932da3ed01  xclick  /m/01g317  ...          0            1         0\n",
              "303977  ffff21932da3ed01  xclick  /m/01g317  ...          0            0         0\n",
              "303978  ffff21932da3ed01  xclick  /m/0c9ph5  ...          1            0         0\n",
              "303979  ffff21932da3ed01  xclick  /m/0c9ph5  ...          1            0         0\n",
              "\n",
              "[303980 rows x 13 columns]"
            ]
          },
          "metadata": {
            "tags": []
          },
          "execution_count": 132
        }
      ]
    },
    {
      "cell_type": "code",
      "metadata": {
        "id": "-cGTmiHnU7L3",
        "colab_type": "code",
        "colab": {
          "base_uri": "https://localhost:8080/",
          "height": 76
        },
        "outputId": "af7e277f-52be-4317-ce2b-d62bdec83dfa"
      },
      "source": [
        "train_annotation"
      ],
      "execution_count": null,
      "outputs": [
        {
          "output_type": "execute_result",
          "data": {
            "text/html": [
              "<div>\n",
              "<style scoped>\n",
              "    .dataframe tbody tr th:only-of-type {\n",
              "        vertical-align: middle;\n",
              "    }\n",
              "\n",
              "    .dataframe tbody tr th {\n",
              "        vertical-align: top;\n",
              "    }\n",
              "\n",
              "    .dataframe thead th {\n",
              "        text-align: right;\n",
              "    }\n",
              "</style>\n",
              "<table border=\"1\" class=\"dataframe\">\n",
              "  <thead>\n",
              "    <tr style=\"text-align: right;\">\n",
              "      <th></th>\n",
              "      <th>location</th>\n",
              "      <th>x1</th>\n",
              "      <th>y1</th>\n",
              "      <th>x2</th>\n",
              "      <th>y2</th>\n",
              "      <th>class_name</th>\n",
              "    </tr>\n",
              "  </thead>\n",
              "  <tbody>\n",
              "    <tr>\n",
              "      <th>0</th>\n",
              "      <td>/content/data/images/table/images/000002b66c9c...</td>\n",
              "      <td>0.064062</td>\n",
              "      <td>0.889063</td>\n",
              "      <td>0.492188</td>\n",
              "      <td>0.492188</td>\n",
              "      <td>Table</td>\n",
              "    </tr>\n",
              "  </tbody>\n",
              "</table>\n",
              "</div>"
            ],
            "text/plain": [
              "                                            location  ...  class_name\n",
              "0  /content/data/images/table/images/000002b66c9c...  ...       Table\n",
              "\n",
              "[1 rows x 6 columns]"
            ]
          },
          "metadata": {
            "tags": []
          },
          "execution_count": 133
        }
      ]
    },
    {
      "cell_type": "code",
      "metadata": {
        "id": "h9hrCqzbU_re",
        "colab_type": "code",
        "colab": {
          "base_uri": "https://localhost:8080/",
          "height": 399
        },
        "outputId": "a3a4f7fa-4c30-4cc7-92ea-e42da87752bc"
      },
      "source": [
        "train_file"
      ],
      "execution_count": null,
      "outputs": [
        {
          "output_type": "execute_result",
          "data": {
            "text/html": [
              "<div>\n",
              "<style scoped>\n",
              "    .dataframe tbody tr th:only-of-type {\n",
              "        vertical-align: middle;\n",
              "    }\n",
              "\n",
              "    .dataframe tbody tr th {\n",
              "        vertical-align: top;\n",
              "    }\n",
              "\n",
              "    .dataframe thead th {\n",
              "        text-align: right;\n",
              "    }\n",
              "</style>\n",
              "<table border=\"1\" class=\"dataframe\">\n",
              "  <thead>\n",
              "    <tr style=\"text-align: right;\">\n",
              "      <th></th>\n",
              "      <th>ImageID</th>\n",
              "      <th>Source</th>\n",
              "      <th>LabelName</th>\n",
              "      <th>Confidence</th>\n",
              "      <th>XMin</th>\n",
              "      <th>XMax</th>\n",
              "      <th>YMin</th>\n",
              "      <th>YMax</th>\n",
              "      <th>IsOccluded</th>\n",
              "      <th>IsTruncated</th>\n",
              "      <th>IsGroupOf</th>\n",
              "      <th>IsDepiction</th>\n",
              "      <th>IsInside</th>\n",
              "    </tr>\n",
              "  </thead>\n",
              "  <tbody>\n",
              "    <tr>\n",
              "      <th>0</th>\n",
              "      <td>000002b66c9c498e</td>\n",
              "      <td>xclick</td>\n",
              "      <td>/m/01g317</td>\n",
              "      <td>1</td>\n",
              "      <td>0.012500</td>\n",
              "      <td>0.195312</td>\n",
              "      <td>0.148438</td>\n",
              "      <td>0.587500</td>\n",
              "      <td>0</td>\n",
              "      <td>1</td>\n",
              "      <td>0</td>\n",
              "      <td>0</td>\n",
              "      <td>0</td>\n",
              "    </tr>\n",
              "    <tr>\n",
              "      <th>1</th>\n",
              "      <td>000002b66c9c498e</td>\n",
              "      <td>xclick</td>\n",
              "      <td>/m/01g317</td>\n",
              "      <td>1</td>\n",
              "      <td>0.025000</td>\n",
              "      <td>0.276563</td>\n",
              "      <td>0.714063</td>\n",
              "      <td>0.948438</td>\n",
              "      <td>0</td>\n",
              "      <td>1</td>\n",
              "      <td>0</td>\n",
              "      <td>0</td>\n",
              "      <td>0</td>\n",
              "    </tr>\n",
              "    <tr>\n",
              "      <th>2</th>\n",
              "      <td>000002b66c9c498e</td>\n",
              "      <td>xclick</td>\n",
              "      <td>/m/01g317</td>\n",
              "      <td>1</td>\n",
              "      <td>0.151562</td>\n",
              "      <td>0.310937</td>\n",
              "      <td>0.198437</td>\n",
              "      <td>0.590625</td>\n",
              "      <td>1</td>\n",
              "      <td>0</td>\n",
              "      <td>0</td>\n",
              "      <td>0</td>\n",
              "      <td>0</td>\n",
              "    </tr>\n",
              "    <tr>\n",
              "      <th>3</th>\n",
              "      <td>000002b66c9c498e</td>\n",
              "      <td>xclick</td>\n",
              "      <td>/m/01g317</td>\n",
              "      <td>1</td>\n",
              "      <td>0.256250</td>\n",
              "      <td>0.429688</td>\n",
              "      <td>0.651563</td>\n",
              "      <td>0.925000</td>\n",
              "      <td>1</td>\n",
              "      <td>0</td>\n",
              "      <td>0</td>\n",
              "      <td>0</td>\n",
              "      <td>0</td>\n",
              "    </tr>\n",
              "    <tr>\n",
              "      <th>4</th>\n",
              "      <td>000002b66c9c498e</td>\n",
              "      <td>xclick</td>\n",
              "      <td>/m/01g317</td>\n",
              "      <td>1</td>\n",
              "      <td>0.257812</td>\n",
              "      <td>0.346875</td>\n",
              "      <td>0.235938</td>\n",
              "      <td>0.385938</td>\n",
              "      <td>1</td>\n",
              "      <td>0</td>\n",
              "      <td>0</td>\n",
              "      <td>0</td>\n",
              "      <td>0</td>\n",
              "    </tr>\n",
              "    <tr>\n",
              "      <th>...</th>\n",
              "      <td>...</td>\n",
              "      <td>...</td>\n",
              "      <td>...</td>\n",
              "      <td>...</td>\n",
              "      <td>...</td>\n",
              "      <td>...</td>\n",
              "      <td>...</td>\n",
              "      <td>...</td>\n",
              "      <td>...</td>\n",
              "      <td>...</td>\n",
              "      <td>...</td>\n",
              "      <td>...</td>\n",
              "      <td>...</td>\n",
              "    </tr>\n",
              "    <tr>\n",
              "      <th>14610224</th>\n",
              "      <td>fffffdaec951185d</td>\n",
              "      <td>xclick</td>\n",
              "      <td>/m/0dzct</td>\n",
              "      <td>1</td>\n",
              "      <td>0.445625</td>\n",
              "      <td>0.672500</td>\n",
              "      <td>0.154784</td>\n",
              "      <td>0.200750</td>\n",
              "      <td>1</td>\n",
              "      <td>0</td>\n",
              "      <td>1</td>\n",
              "      <td>0</td>\n",
              "      <td>0</td>\n",
              "    </tr>\n",
              "    <tr>\n",
              "      <th>14610225</th>\n",
              "      <td>fffffdaec951185d</td>\n",
              "      <td>xclick</td>\n",
              "      <td>/m/0dzct</td>\n",
              "      <td>1</td>\n",
              "      <td>0.695625</td>\n",
              "      <td>0.786250</td>\n",
              "      <td>0.118199</td>\n",
              "      <td>0.297373</td>\n",
              "      <td>0</td>\n",
              "      <td>0</td>\n",
              "      <td>0</td>\n",
              "      <td>0</td>\n",
              "      <td>0</td>\n",
              "    </tr>\n",
              "    <tr>\n",
              "      <th>14610226</th>\n",
              "      <td>fffffdaec951185d</td>\n",
              "      <td>xclick</td>\n",
              "      <td>/m/0dzct</td>\n",
              "      <td>1</td>\n",
              "      <td>0.788750</td>\n",
              "      <td>0.835000</td>\n",
              "      <td>0.198874</td>\n",
              "      <td>0.272045</td>\n",
              "      <td>1</td>\n",
              "      <td>0</td>\n",
              "      <td>0</td>\n",
              "      <td>0</td>\n",
              "      <td>0</td>\n",
              "    </tr>\n",
              "    <tr>\n",
              "      <th>14610227</th>\n",
              "      <td>fffffdaec951185d</td>\n",
              "      <td>xclick</td>\n",
              "      <td>/m/0dzct</td>\n",
              "      <td>1</td>\n",
              "      <td>0.796875</td>\n",
              "      <td>0.951875</td>\n",
              "      <td>0.156660</td>\n",
              "      <td>0.205441</td>\n",
              "      <td>1</td>\n",
              "      <td>0</td>\n",
              "      <td>1</td>\n",
              "      <td>0</td>\n",
              "      <td>0</td>\n",
              "    </tr>\n",
              "    <tr>\n",
              "      <th>14610228</th>\n",
              "      <td>fffffdaec951185d</td>\n",
              "      <td>xclick</td>\n",
              "      <td>/m/0dzct</td>\n",
              "      <td>1</td>\n",
              "      <td>0.991250</td>\n",
              "      <td>0.999375</td>\n",
              "      <td>0.174484</td>\n",
              "      <td>0.195122</td>\n",
              "      <td>1</td>\n",
              "      <td>0</td>\n",
              "      <td>0</td>\n",
              "      <td>0</td>\n",
              "      <td>0</td>\n",
              "    </tr>\n",
              "  </tbody>\n",
              "</table>\n",
              "<p>14610229 rows × 13 columns</p>\n",
              "</div>"
            ],
            "text/plain": [
              "                   ImageID  Source  LabelName  ...  IsGroupOf  IsDepiction  IsInside\n",
              "0         000002b66c9c498e  xclick  /m/01g317  ...          0            0         0\n",
              "1         000002b66c9c498e  xclick  /m/01g317  ...          0            0         0\n",
              "2         000002b66c9c498e  xclick  /m/01g317  ...          0            0         0\n",
              "3         000002b66c9c498e  xclick  /m/01g317  ...          0            0         0\n",
              "4         000002b66c9c498e  xclick  /m/01g317  ...          0            0         0\n",
              "...                    ...     ...        ...  ...        ...          ...       ...\n",
              "14610224  fffffdaec951185d  xclick   /m/0dzct  ...          1            0         0\n",
              "14610225  fffffdaec951185d  xclick   /m/0dzct  ...          0            0         0\n",
              "14610226  fffffdaec951185d  xclick   /m/0dzct  ...          0            0         0\n",
              "14610227  fffffdaec951185d  xclick   /m/0dzct  ...          1            0         0\n",
              "14610228  fffffdaec951185d  xclick   /m/0dzct  ...          0            0         0\n",
              "\n",
              "[14610229 rows x 13 columns]"
            ]
          },
          "metadata": {
            "tags": []
          },
          "execution_count": 146
        }
      ]
    },
    {
      "cell_type": "code",
      "metadata": {
        "id": "rM93SfZAVPFb",
        "colab_type": "code",
        "colab": {
          "base_uri": "https://localhost:8080/",
          "height": 35
        },
        "outputId": "118a4e0f-65ff-4e41-fc10-6b9298d17bfe"
      },
      "source": [
        "len(l)"
      ],
      "execution_count": null,
      "outputs": [
        {
          "output_type": "execute_result",
          "data": {
            "text/plain": [
              "693"
            ]
          },
          "metadata": {
            "tags": []
          },
          "execution_count": 147
        }
      ]
    },
    {
      "cell_type": "code",
      "metadata": {
        "id": "wlzogfcyZGsy",
        "colab_type": "code",
        "colab": {
          "base_uri": "https://localhost:8080/",
          "height": 35
        },
        "outputId": "a9464f7f-174a-4626-de02-376afcffcdf8"
      },
      "source": [
        "len(train_file[train_file['LabelName']=='/m/0h8nr_l']['ImageID'].unique()) + len(test_file[test_file['LabelName']=='/m/0h8nr_l']['ImageID'].unique()) + len(validation_file[validation_file['LabelName']=='/m/0h8nr_l']['ImageID'].unique())"
      ],
      "execution_count": null,
      "outputs": [
        {
          "output_type": "execute_result",
          "data": {
            "text/plain": [
              "944"
            ]
          },
          "metadata": {
            "tags": []
          },
          "execution_count": 157
        }
      ]
    },
    {
      "cell_type": "code",
      "metadata": {
        "id": "h7GlpjMsZPTB",
        "colab_type": "code",
        "colab": {
          "base_uri": "https://localhost:8080/",
          "height": 47
        },
        "outputId": "7fba1871-e59e-47de-af6e-fbe9f96b5271"
      },
      "source": [
        "train_file[train_file['LabelName']=='Bathroom accessory']"
      ],
      "execution_count": null,
      "outputs": [
        {
          "output_type": "execute_result",
          "data": {
            "text/html": [
              "<div>\n",
              "<style scoped>\n",
              "    .dataframe tbody tr th:only-of-type {\n",
              "        vertical-align: middle;\n",
              "    }\n",
              "\n",
              "    .dataframe tbody tr th {\n",
              "        vertical-align: top;\n",
              "    }\n",
              "\n",
              "    .dataframe thead th {\n",
              "        text-align: right;\n",
              "    }\n",
              "</style>\n",
              "<table border=\"1\" class=\"dataframe\">\n",
              "  <thead>\n",
              "    <tr style=\"text-align: right;\">\n",
              "      <th></th>\n",
              "      <th>ImageID</th>\n",
              "      <th>Source</th>\n",
              "      <th>LabelName</th>\n",
              "      <th>Confidence</th>\n",
              "      <th>XMin</th>\n",
              "      <th>XMax</th>\n",
              "      <th>YMin</th>\n",
              "      <th>YMax</th>\n",
              "      <th>IsOccluded</th>\n",
              "      <th>IsTruncated</th>\n",
              "      <th>IsGroupOf</th>\n",
              "      <th>IsDepiction</th>\n",
              "      <th>IsInside</th>\n",
              "    </tr>\n",
              "  </thead>\n",
              "  <tbody>\n",
              "  </tbody>\n",
              "</table>\n",
              "</div>"
            ],
            "text/plain": [
              "Empty DataFrame\n",
              "Columns: [ImageID, Source, LabelName, Confidence, XMin, XMax, YMin, YMax, IsOccluded, IsTruncated, IsGroupOf, IsDepiction, IsInside]\n",
              "Index: []"
            ]
          },
          "metadata": {
            "tags": []
          },
          "execution_count": 155
        }
      ]
    },
    {
      "cell_type": "code",
      "metadata": {
        "id": "nXhZoBjEaBfZ",
        "colab_type": "code",
        "colab": {
          "base_uri": "https://localhost:8080/",
          "height": 764
        },
        "outputId": "892edcee-0247-4ada-8beb-f7989400789a"
      },
      "source": [
        "id_to_class"
      ],
      "execution_count": null,
      "outputs": [
        {
          "output_type": "execute_result",
          "data": {
            "text/plain": [
              "{'/m/0130jx': 'Sink',\n",
              " '/m/0162_1': 'Towel',\n",
              " '/m/0174k2': 'Washing machine',\n",
              " '/m/01c648': 'Laptop',\n",
              " '/m/01k6s3': 'Toaster',\n",
              " '/m/01x3z': 'Clock',\n",
              " '/m/01xq0k1': 'Cattle',\n",
              " '/m/029bxz': 'Oven',\n",
              " '/m/02crq1': 'Couch',\n",
              " '/m/02d9qx': 'Whiteboard',\n",
              " '/m/02f9f_': 'Shower',\n",
              " '/m/02jvh9': 'Mug',\n",
              " '/m/02pjr4': 'Blender',\n",
              " '/m/02wv84t': 'Gas stove',\n",
              " '/m/034c16': 'Pillow',\n",
              " '/m/03__z0': 'Bookcase',\n",
              " '/m/03_wxk': 'Kitchenware',\n",
              " '/m/03dnzn': 'Bathtub',\n",
              " '/m/03ldnb': 'Ceiling fan',\n",
              " '/m/03m3pdh': 'Sofa bed',\n",
              " '/m/03qhv5': 'Heater',\n",
              " '/m/03s_tn': 'Kettle',\n",
              " '/m/03ssj5': 'Bed',\n",
              " '/m/03tw93': 'Fireplace',\n",
              " '/m/040b_t': 'Refrigerator',\n",
              " '/m/04169hn': 'Wood-burning stove',\n",
              " '/m/04bcr3': 'Table',\n",
              " '/m/054_l': 'Mirror',\n",
              " '/m/0642b4': 'Cupboard',\n",
              " '/m/078n6m': 'Coffee table',\n",
              " '/m/07c52': 'Television',\n",
              " '/m/07cx4': 'Telephone',\n",
              " '/m/07xyvk': 'Coffeemaker',\n",
              " '/m/09g1w': 'Toilet',\n",
              " '/m/0b3fp9': 'Countertop',\n",
              " '/m/0c_jw': 'Furniture',\n",
              " '/m/0fx9l': 'Microwave oven',\n",
              " '/m/0h8n5zk': 'Kitchen & dining room table',\n",
              " '/m/0h8nr_l': 'Bathroom accessory',\n",
              " '/m/0h8ntjv': 'Pressure cooker',\n",
              " '/m/0ky7b': 'Dishwasher',\n",
              " '/m/0llzx': 'Sewing machine'}"
            ]
          },
          "metadata": {
            "tags": []
          },
          "execution_count": 156
        }
      ]
    },
    {
      "cell_type": "code",
      "metadata": {
        "id": "mc6mRU9haatO",
        "colab_type": "code",
        "colab": {}
      },
      "source": [
        "import os\n",
        "name_of_images = []\n",
        "for class_name in total_items:\n",
        "  for file in os.listdir(f\"/content/data/images/{class_name.lower()}/images\"):\n",
        "    name_of_images.append(file[:-4])"
      ],
      "execution_count": null,
      "outputs": []
    },
    {
      "cell_type": "code",
      "metadata": {
        "id": "I2W6KwOAa8vq",
        "colab_type": "code",
        "colab": {
          "base_uri": "https://localhost:8080/",
          "height": 35
        },
        "outputId": "d22eb339-fc9c-4fa3-faff-d21eed87fd69"
      },
      "source": [
        "len(l)"
      ],
      "execution_count": null,
      "outputs": [
        {
          "output_type": "execute_result",
          "data": {
            "text/plain": [
              "46126"
            ]
          },
          "metadata": {
            "tags": []
          },
          "execution_count": 162
        }
      ]
    },
    {
      "cell_type": "code",
      "metadata": {
        "id": "U0VF6QrLbCyK",
        "colab_type": "code",
        "colab": {}
      },
      "source": [
        ""
      ],
      "execution_count": null,
      "outputs": []
    }
  ]
}