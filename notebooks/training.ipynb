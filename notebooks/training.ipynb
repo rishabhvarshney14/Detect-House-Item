{
  "nbformat": 4,
  "nbformat_minor": 0,
  "metadata": {
    "colab": {
      "name": "training.ipynb",
      "provenance": [],
      "collapsed_sections": []
    },
    "kernelspec": {
      "name": "python3",
      "display_name": "Python 3"
    },
    "accelerator": "GPU"
  },
  "cells": [
    {
      "cell_type": "code",
      "metadata": {
        "id": "XiR9P9KF3KDW",
        "colab_type": "code",
        "colab": {
          "base_uri": "https://localhost:8080/",
          "height": 36
        },
        "outputId": "648198ea-c672-4d53-eae3-0b3c1689c773"
      },
      "source": [
        "import tensorflow as tf\n",
        "tf.test.gpu_device_name()"
      ],
      "execution_count": null,
      "outputs": [
        {
          "output_type": "execute_result",
          "data": {
            "application/vnd.google.colaboratory.intrinsic": {
              "type": "string"
            },
            "text/plain": [
              "'/device:GPU:0'"
            ]
          },
          "metadata": {
            "tags": []
          },
          "execution_count": 18
        }
      ]
    },
    {
      "cell_type": "code",
      "metadata": {
        "id": "bfHTc2oFoRVi",
        "colab_type": "code",
        "colab": {}
      },
      "source": [
        "!pip install openimages"
      ],
      "execution_count": null,
      "outputs": []
    },
    {
      "cell_type": "code",
      "metadata": {
        "id": "dFEjahF6Rp-u",
        "colab_type": "code",
        "colab": {}
      },
      "source": [
        "from downloadOI import DownloadOI"
      ],
      "execution_count": null,
      "outputs": []
    },
    {
      "cell_type": "code",
      "metadata": {
        "id": "r6kkhDf_pR3p",
        "colab_type": "code",
        "colab": {}
      },
      "source": [
        "classes = ['Bookcase','Bathtub', 'Pillow' ,'Couch', 'Gas stove', 'Washing machine' ,'Bed',\n",
        " 'Refrigerator', 'Bathroom accessory', 'Kitchen & dining room table',\n",
        " 'Television' ,'Sink' ,'Sofa bed' ,'Kitchenware' ,'Toilet' ,'Ceiling fan',\n",
        " 'Microwave oven', 'Furniture', 'Coffeemaker', 'Cupboard', 'Dishwasher',\n",
        " 'Shower' ,'Clock' ,'Countertop' ,'Mug', 'Table']\n",
        "\n",
        "data_path = 'content/data'\n",
        "csv_path = 'content/data/files'"
      ],
      "execution_count": null,
      "outputs": []
    },
    {
      "cell_type": "code",
      "metadata": {
        "id": "OhipfrmxA-Q0",
        "colab_type": "code",
        "colab": {}
      },
      "source": [
        "%mkdir data\n",
        "%cd data\n",
        "%mkdir files\n",
        "%cd files\n",
        "!wget https://storage.googleapis.com/openimages/v5/test-annotations-bbox.csv\n",
        "!wget https://storage.googleapis.com/openimages/v5/validation-annotations-bbox.csv\n",
        "!wget https://storage.googleapis.com/openimages/2018_04/train/train-annotations-bbox.csv\n",
        "!wget https://storage.googleapis.com/openimages/v5/class-descriptions-boxable.csv\n",
        "%cd ..\n",
        "%cd .."
      ],
      "execution_count": null,
      "outputs": []
    },
    {
      "cell_type": "code",
      "metadata": {
        "id": "5Q4-zgF3o7Pl",
        "colab_type": "code",
        "colab": {}
      },
      "source": [
        "download_dataset = DownloadOI(classes, data_path, csv_path, limit)"
      ],
      "execution_count": null,
      "outputs": []
    },
    {
      "cell_type": "code",
      "metadata": {
        "id": "7PBY_TXdXLEB",
        "colab_type": "code",
        "colab": {}
      },
      "source": [
        "download_dataset.form_dataset()"
      ],
      "execution_count": null,
      "outputs": []
    },
    {
      "cell_type": "code",
      "metadata": {
        "id": "ZjpvM4nBtnDz",
        "colab_type": "code",
        "colab": {}
      },
      "source": [
        "!git clone https://github.com/fizyr/keras-retinanet.git\n",
        "%cd keras-retinanet/\n",
        "!pip install .\n",
        "!python setup.py build_ext --inplace\n",
        "%cd .."
      ],
      "execution_count": null,
      "outputs": []
    },
    {
      "cell_type": "code",
      "metadata": {
        "id": "djuX_-smW01z",
        "colab_type": "code",
        "colab": {}
      },
      "source": [
        "import urllib\n",
        "\n",
        "PRETRAINED_MODEL = 'keras-retinanet/snapshots/_pretrained_model.h5'\n",
        "\n",
        "URL_MODEL = 'https://github.com/fizyr/keras-retinanet/releases/download/0.5.1/resnet50_coco_best_v2.1.0.h5'\n",
        "urllib.request.urlretrieve(URL_MODEL, PRETRAINED_MODEL)"
      ],
      "execution_count": null,
      "outputs": []
    },
    {
      "cell_type": "code",
      "metadata": {
        "id": "6DOsUHbEMJDp",
        "colab_type": "code",
        "colab": {}
      },
      "source": [
        "PRETRAINED_MODEL = '/content/snapshots/resnet50_csv_11.h5'"
      ],
      "execution_count": null,
      "outputs": []
    },
    {
      "cell_type": "code",
      "metadata": {
        "id": "hoPIvWaDEj02",
        "colab_type": "code",
        "colab": {}
      },
      "source": [
        "!keras-retinanet/keras_retinanet/bin/train.py  --freeze-backbone --weights {PRETRAINED_MODEL} --initial-epoch 8 --weighted-average --batch-size 16 --steps 247 --snapshot-path /content/snapshots --image-min-side 250 csv /content/data/annotation/train.csv /content/data/classes/classes.csv"
      ],
      "execution_count": null,
      "outputs": []
    },
    {
      "cell_type": "code",
      "metadata": {
        "id": "eFSZ98ae3Jfy",
        "colab_type": "code",
        "colab": {}
      },
      "source": [
        ""
      ],
      "execution_count": null,
      "outputs": []
    }
  ]
}